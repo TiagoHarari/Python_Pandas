{
 "cells": [
  {
   "cell_type": "markdown",
   "id": "bf9eca6f",
   "metadata": {
    "papermill": {
     "duration": 0.006496,
     "end_time": "2024-06-29T15:46:36.143087",
     "exception": false,
     "start_time": "2024-06-29T15:46:36.136591",
     "status": "completed"
    },
    "tags": []
   },
   "source": [
    "**This notebook is an exercise in the [Pandas](https://www.kaggle.com/learn/pandas) course.  You can reference the tutorial at [this link](https://www.kaggle.com/residentmario/data-types-and-missing-values).**\n",
    "\n",
    "---\n"
   ]
  },
  {
   "cell_type": "markdown",
   "id": "e7a59c50",
   "metadata": {
    "papermill": {
     "duration": 0.005625,
     "end_time": "2024-06-29T15:46:36.154978",
     "exception": false,
     "start_time": "2024-06-29T15:46:36.149353",
     "status": "completed"
    },
    "tags": []
   },
   "source": [
    "# Introduction\n",
    "\n",
    "Run the following cell to load your data and some utility functions."
   ]
  },
  {
   "cell_type": "code",
   "execution_count": 1,
   "id": "3c285d74",
   "metadata": {
    "execution": {
     "iopub.execute_input": "2024-06-29T15:46:36.169308Z",
     "iopub.status.busy": "2024-06-29T15:46:36.168879Z",
     "iopub.status.idle": "2024-06-29T15:46:40.468106Z",
     "shell.execute_reply": "2024-06-29T15:46:40.466606Z"
    },
    "papermill": {
     "duration": 4.309773,
     "end_time": "2024-06-29T15:46:40.471148",
     "exception": false,
     "start_time": "2024-06-29T15:46:36.161375",
     "status": "completed"
    },
    "tags": []
   },
   "outputs": [
    {
     "name": "stdout",
     "output_type": "stream",
     "text": [
      "Setup complete.\n"
     ]
    }
   ],
   "source": [
    "import pandas as pd\n",
    "\n",
    "reviews = pd.read_csv(\"../input/wine-reviews/winemag-data-130k-v2.csv\", index_col=0)\n",
    "\n",
    "from learntools.core import binder; binder.bind(globals())\n",
    "from learntools.pandas.data_types_and_missing_data import *\n",
    "print(\"Setup complete.\")"
   ]
  },
  {
   "cell_type": "markdown",
   "id": "6ea921cc",
   "metadata": {
    "papermill": {
     "duration": 0.006061,
     "end_time": "2024-06-29T15:46:40.484193",
     "exception": false,
     "start_time": "2024-06-29T15:46:40.478132",
     "status": "completed"
    },
    "tags": []
   },
   "source": [
    "# Exercises"
   ]
  },
  {
   "cell_type": "markdown",
   "id": "342f0847",
   "metadata": {
    "papermill": {
     "duration": 0.005721,
     "end_time": "2024-06-29T15:46:40.496064",
     "exception": false,
     "start_time": "2024-06-29T15:46:40.490343",
     "status": "completed"
    },
    "tags": []
   },
   "source": [
    "## 1. \n",
    "What is the data type of the `points` column in the dataset?"
   ]
  },
  {
   "cell_type": "code",
   "execution_count": 2,
   "id": "4da6840c",
   "metadata": {
    "execution": {
     "iopub.execute_input": "2024-06-29T15:46:40.510442Z",
     "iopub.status.busy": "2024-06-29T15:46:40.509961Z",
     "iopub.status.idle": "2024-06-29T15:46:40.522097Z",
     "shell.execute_reply": "2024-06-29T15:46:40.520937Z"
    },
    "papermill": {
     "duration": 0.023166,
     "end_time": "2024-06-29T15:46:40.525359",
     "exception": false,
     "start_time": "2024-06-29T15:46:40.502193",
     "status": "completed"
    },
    "tags": []
   },
   "outputs": [
    {
     "data": {
      "application/javascript": [
       "parent.postMessage({\"jupyterEvent\": \"custom.exercise_interaction\", \"data\": {\"outcomeType\": 1, \"valueTowardsCompletion\": 0.25, \"interactionType\": 1, \"questionType\": 1, \"questionId\": \"1_PointsDtype\", \"learnToolsVersion\": \"0.3.4\", \"failureMessage\": \"\", \"exceptionClass\": \"\", \"trace\": \"\"}}, \"*\")"
      ],
      "text/plain": [
       "<IPython.core.display.Javascript object>"
      ]
     },
     "metadata": {},
     "output_type": "display_data"
    },
    {
     "data": {
      "text/markdown": [
       "<span style=\"color:#33cc33\">Correct</span>"
      ],
      "text/plain": [
       "Correct"
      ]
     },
     "metadata": {},
     "output_type": "display_data"
    },
    {
     "name": "stdout",
     "output_type": "stream",
     "text": [
      "int64\n"
     ]
    }
   ],
   "source": [
    "# Your code here\n",
    "dtype = reviews.points.dtype\n",
    "\n",
    "# Check your answer\n",
    "q1.check()\n",
    "print(dtype)"
   ]
  },
  {
   "cell_type": "code",
   "execution_count": 3,
   "id": "ad0262fd",
   "metadata": {
    "execution": {
     "iopub.execute_input": "2024-06-29T15:46:40.540587Z",
     "iopub.status.busy": "2024-06-29T15:46:40.540194Z",
     "iopub.status.idle": "2024-06-29T15:46:40.545593Z",
     "shell.execute_reply": "2024-06-29T15:46:40.544257Z"
    },
    "papermill": {
     "duration": 0.016428,
     "end_time": "2024-06-29T15:46:40.548416",
     "exception": false,
     "start_time": "2024-06-29T15:46:40.531988",
     "status": "completed"
    },
    "tags": []
   },
   "outputs": [],
   "source": [
    "#q1.hint()\n",
    "#q1.solution()"
   ]
  },
  {
   "cell_type": "markdown",
   "id": "9a44f8f4",
   "metadata": {
    "papermill": {
     "duration": 0.006347,
     "end_time": "2024-06-29T15:46:40.561727",
     "exception": false,
     "start_time": "2024-06-29T15:46:40.555380",
     "status": "completed"
    },
    "tags": []
   },
   "source": [
    "## 2. \n",
    "Create a Series from entries in the `points` column, but convert the entries to strings. Hint: strings are `str` in native Python."
   ]
  },
  {
   "cell_type": "code",
   "execution_count": 4,
   "id": "8f20da4c",
   "metadata": {
    "execution": {
     "iopub.execute_input": "2024-06-29T15:46:40.577397Z",
     "iopub.status.busy": "2024-06-29T15:46:40.576300Z",
     "iopub.status.idle": "2024-06-29T15:46:40.655342Z",
     "shell.execute_reply": "2024-06-29T15:46:40.653160Z"
    },
    "papermill": {
     "duration": 0.090296,
     "end_time": "2024-06-29T15:46:40.658657",
     "exception": false,
     "start_time": "2024-06-29T15:46:40.568361",
     "status": "completed"
    },
    "tags": []
   },
   "outputs": [
    {
     "data": {
      "application/javascript": [
       "parent.postMessage({\"jupyterEvent\": \"custom.exercise_interaction\", \"data\": {\"outcomeType\": 1, \"valueTowardsCompletion\": 0.25, \"interactionType\": 1, \"questionType\": 1, \"questionId\": \"2_StrPoints\", \"learnToolsVersion\": \"0.3.4\", \"failureMessage\": \"\", \"exceptionClass\": \"\", \"trace\": \"\"}}, \"*\")"
      ],
      "text/plain": [
       "<IPython.core.display.Javascript object>"
      ]
     },
     "metadata": {},
     "output_type": "display_data"
    },
    {
     "data": {
      "text/markdown": [
       "<span style=\"color:#33cc33\">Correct</span>"
      ],
      "text/plain": [
       "Correct"
      ]
     },
     "metadata": {},
     "output_type": "display_data"
    },
    {
     "name": "stdout",
     "output_type": "stream",
     "text": [
      "0         87\n",
      "1         87\n",
      "2         87\n",
      "3         87\n",
      "4         87\n",
      "          ..\n",
      "129966    90\n",
      "129967    90\n",
      "129968    90\n",
      "129969    90\n",
      "129970    90\n",
      "Name: points, Length: 129971, dtype: object\n"
     ]
    }
   ],
   "source": [
    "point_strings = reviews.points.astype(\"str\")\n",
    "\n",
    "# Check your answer\n",
    "q2.check()\n",
    "print(point_strings)"
   ]
  },
  {
   "cell_type": "code",
   "execution_count": 5,
   "id": "def233fa",
   "metadata": {
    "execution": {
     "iopub.execute_input": "2024-06-29T15:46:40.676107Z",
     "iopub.status.busy": "2024-06-29T15:46:40.675688Z",
     "iopub.status.idle": "2024-06-29T15:46:40.680612Z",
     "shell.execute_reply": "2024-06-29T15:46:40.679539Z"
    },
    "papermill": {
     "duration": 0.016274,
     "end_time": "2024-06-29T15:46:40.683126",
     "exception": false,
     "start_time": "2024-06-29T15:46:40.666852",
     "status": "completed"
    },
    "tags": []
   },
   "outputs": [],
   "source": [
    "#q2.hint()\n",
    "#q2.solution()"
   ]
  },
  {
   "cell_type": "markdown",
   "id": "57ef74ec",
   "metadata": {
    "papermill": {
     "duration": 0.006917,
     "end_time": "2024-06-29T15:46:40.697275",
     "exception": false,
     "start_time": "2024-06-29T15:46:40.690358",
     "status": "completed"
    },
    "tags": []
   },
   "source": [
    "## 3.\n",
    "Sometimes the price column is null. How many reviews in the dataset are missing a price?"
   ]
  },
  {
   "cell_type": "code",
   "execution_count": 6,
   "id": "20218487",
   "metadata": {
    "execution": {
     "iopub.execute_input": "2024-06-29T15:46:40.713601Z",
     "iopub.status.busy": "2024-06-29T15:46:40.713184Z",
     "iopub.status.idle": "2024-06-29T15:46:40.724895Z",
     "shell.execute_reply": "2024-06-29T15:46:40.723400Z"
    },
    "papermill": {
     "duration": 0.02294,
     "end_time": "2024-06-29T15:46:40.727451",
     "exception": false,
     "start_time": "2024-06-29T15:46:40.704511",
     "status": "completed"
    },
    "tags": []
   },
   "outputs": [
    {
     "data": {
      "application/javascript": [
       "parent.postMessage({\"jupyterEvent\": \"custom.exercise_interaction\", \"data\": {\"outcomeType\": 1, \"valueTowardsCompletion\": 0.25, \"interactionType\": 1, \"questionType\": 1, \"questionId\": \"3_CountMissingPrices\", \"learnToolsVersion\": \"0.3.4\", \"failureMessage\": \"\", \"exceptionClass\": \"\", \"trace\": \"\"}}, \"*\")"
      ],
      "text/plain": [
       "<IPython.core.display.Javascript object>"
      ]
     },
     "metadata": {},
     "output_type": "display_data"
    },
    {
     "data": {
      "text/markdown": [
       "<span style=\"color:#33cc33\">Correct</span>"
      ],
      "text/plain": [
       "Correct"
      ]
     },
     "metadata": {},
     "output_type": "display_data"
    },
    {
     "name": "stdout",
     "output_type": "stream",
     "text": [
      "8996\n"
     ]
    }
   ],
   "source": [
    "n_missing_prices = reviews.price.isnull().sum()\n",
    "#suma de la cantidad de filas de la columan precio que no tienen numero\n",
    "\n",
    "# Check your answer\n",
    "q3.check()\n",
    "print(n_missing_prices)"
   ]
  },
  {
   "cell_type": "code",
   "execution_count": 7,
   "id": "d92df5f1",
   "metadata": {
    "execution": {
     "iopub.execute_input": "2024-06-29T15:46:40.744688Z",
     "iopub.status.busy": "2024-06-29T15:46:40.744304Z",
     "iopub.status.idle": "2024-06-29T15:46:40.749298Z",
     "shell.execute_reply": "2024-06-29T15:46:40.747831Z"
    },
    "papermill": {
     "duration": 0.016771,
     "end_time": "2024-06-29T15:46:40.751956",
     "exception": false,
     "start_time": "2024-06-29T15:46:40.735185",
     "status": "completed"
    },
    "tags": []
   },
   "outputs": [],
   "source": [
    "#q3.hint()\n",
    "#q3.solution()"
   ]
  },
  {
   "cell_type": "markdown",
   "id": "c2134a02",
   "metadata": {
    "papermill": {
     "duration": 0.007666,
     "end_time": "2024-06-29T15:46:40.768072",
     "exception": false,
     "start_time": "2024-06-29T15:46:40.760406",
     "status": "completed"
    },
    "tags": []
   },
   "source": [
    "## 4.\n",
    "What are the most common wine-producing regions? Create a Series counting the number of times each value occurs in the `region_1` field. This field is often missing data, so replace missing values with `Unknown`. Sort in descending order.  Your output should look something like this:\n",
    "\n",
    "```\n",
    "Unknown                    21247\n",
    "Napa Valley                 4480\n",
    "                           ...  \n",
    "Bardolino Superiore            1\n",
    "Primitivo del Tarantino        1\n",
    "Name: region_1, Length: 1230, dtype: int64\n",
    "```"
   ]
  },
  {
   "cell_type": "code",
   "execution_count": 8,
   "id": "56749a01",
   "metadata": {
    "execution": {
     "iopub.execute_input": "2024-06-29T15:46:40.786805Z",
     "iopub.status.busy": "2024-06-29T15:46:40.786363Z",
     "iopub.status.idle": "2024-06-29T15:46:40.885668Z",
     "shell.execute_reply": "2024-06-29T15:46:40.884317Z"
    },
    "papermill": {
     "duration": 0.11357,
     "end_time": "2024-06-29T15:46:40.889733",
     "exception": false,
     "start_time": "2024-06-29T15:46:40.776163",
     "status": "completed"
    },
    "tags": []
   },
   "outputs": [
    {
     "data": {
      "application/javascript": [
       "parent.postMessage({\"jupyterEvent\": \"custom.exercise_interaction\", \"data\": {\"outcomeType\": 1, \"valueTowardsCompletion\": 0.25, \"interactionType\": 1, \"questionType\": 2, \"questionId\": \"4_ReviewsPerRegion\", \"learnToolsVersion\": \"0.3.4\", \"failureMessage\": \"\", \"exceptionClass\": \"\", \"trace\": \"\"}}, \"*\")"
      ],
      "text/plain": [
       "<IPython.core.display.Javascript object>"
      ]
     },
     "metadata": {},
     "output_type": "display_data"
    },
    {
     "data": {
      "text/markdown": [
       "<span style=\"color:#33cc33\">Correct</span>"
      ],
      "text/plain": [
       "Correct"
      ]
     },
     "metadata": {},
     "output_type": "display_data"
    },
    {
     "name": "stdout",
     "output_type": "stream",
     "text": [
      "region_1\n",
      "Unknown                 21247\n",
      "Napa Valley              4480\n",
      "Columbia Valley (WA)     4124\n",
      "Russian River Valley     3091\n",
      "California               2629\n",
      "                        ...  \n",
      "Offida Rosso                1\n",
      "Corton Perrières            1\n",
      "Isle St. George             1\n",
      "Geelong                     1\n",
      "Paestum                     1\n",
      "Name: count, Length: 1230, dtype: int64\n"
     ]
    }
   ],
   "source": [
    "reviews_per_region = reviews.region_1.fillna('Unknown').value_counts().sort_values(ascending=False)\n",
    "\n",
    "#reemplazamos los NaN por Unknown.\n",
    "#armamos una lista con los valores y los ordenamos en orden descendente\n",
    "# Check your answer\n",
    "q4.check()\n",
    "print(reviews_per_region)"
   ]
  },
  {
   "cell_type": "code",
   "execution_count": 9,
   "id": "4a52c86e",
   "metadata": {
    "execution": {
     "iopub.execute_input": "2024-06-29T15:46:40.910503Z",
     "iopub.status.busy": "2024-06-29T15:46:40.910051Z",
     "iopub.status.idle": "2024-06-29T15:46:40.915455Z",
     "shell.execute_reply": "2024-06-29T15:46:40.914089Z"
    },
    "papermill": {
     "duration": 0.01998,
     "end_time": "2024-06-29T15:46:40.918551",
     "exception": false,
     "start_time": "2024-06-29T15:46:40.898571",
     "status": "completed"
    },
    "tags": []
   },
   "outputs": [],
   "source": [
    "#q4.hint()\n",
    "#q4.solution()"
   ]
  },
  {
   "cell_type": "markdown",
   "id": "54cf41d3",
   "metadata": {
    "papermill": {
     "duration": 0.009491,
     "end_time": "2024-06-29T15:46:40.936792",
     "exception": false,
     "start_time": "2024-06-29T15:46:40.927301",
     "status": "completed"
    },
    "tags": []
   },
   "source": [
    "# Keep going\n",
    "\n",
    "Move on to **[renaming and combining](https://www.kaggle.com/residentmario/renaming-and-combining)**."
   ]
  },
  {
   "cell_type": "markdown",
   "id": "35fa984d",
   "metadata": {
    "papermill": {
     "duration": 0.007988,
     "end_time": "2024-06-29T15:46:40.953319",
     "exception": false,
     "start_time": "2024-06-29T15:46:40.945331",
     "status": "completed"
    },
    "tags": []
   },
   "source": [
    "---\n",
    "\n",
    "\n",
    "\n",
    "\n",
    "*Have questions or comments? Visit the [course discussion forum](https://www.kaggle.com/learn/pandas/discussion) to chat with other learners.*"
   ]
  }
 ],
 "metadata": {
  "kaggle": {
   "accelerator": "none",
   "dataSources": [
    {
     "datasetId": 655,
     "sourceId": 1252,
     "sourceType": "datasetVersion"
    },
    {
     "datasetId": 2321,
     "sourceId": 3919,
     "sourceType": "datasetVersion"
    },
    {
     "datasetId": 2894,
     "sourceId": 4877,
     "sourceType": "datasetVersion"
    },
    {
     "datasetId": 3491,
     "sourceId": 5624,
     "sourceType": "datasetVersion"
    },
    {
     "datasetId": 1442,
     "sourceId": 8172,
     "sourceType": "datasetVersion"
    },
    {
     "datasetId": 9366,
     "sourceId": 13206,
     "sourceType": "datasetVersion"
    },
    {
     "datasetId": 179555,
     "sourceId": 403916,
     "sourceType": "datasetVersion"
    },
    {
     "datasetId": 4549,
     "sourceId": 466349,
     "sourceType": "datasetVersion"
    },
    {
     "datasetId": 2478,
     "sourceId": 1151655,
     "sourceType": "datasetVersion"
    },
    {
     "datasetId": 10128,
     "sourceId": 5438389,
     "sourceType": "datasetVersion"
    }
   ],
   "isGpuEnabled": false,
   "isInternetEnabled": false,
   "language": "python",
   "sourceType": "notebook"
  },
  "kernelspec": {
   "display_name": "Python 3",
   "language": "python",
   "name": "python3"
  },
  "language_info": {
   "codemirror_mode": {
    "name": "ipython",
    "version": 3
   },
   "file_extension": ".py",
   "mimetype": "text/x-python",
   "name": "python",
   "nbconvert_exporter": "python",
   "pygments_lexer": "ipython3",
   "version": "3.10.13"
  },
  "papermill": {
   "default_parameters": {},
   "duration": 8.702137,
   "end_time": "2024-06-29T15:46:41.584950",
   "environment_variables": {},
   "exception": null,
   "input_path": "__notebook__.ipynb",
   "output_path": "__notebook__.ipynb",
   "parameters": {},
   "start_time": "2024-06-29T15:46:32.882813",
   "version": "2.5.0"
  }
 },
 "nbformat": 4,
 "nbformat_minor": 5
}
