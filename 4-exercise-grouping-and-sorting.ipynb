{
 "cells": [
  {
   "cell_type": "markdown",
   "id": "bb7c10b9",
   "metadata": {
    "papermill": {
     "duration": 0.008314,
     "end_time": "2024-06-28T23:00:54.850634",
     "exception": false,
     "start_time": "2024-06-28T23:00:54.842320",
     "status": "completed"
    },
    "tags": []
   },
   "source": [
    "**This notebook is an exercise in the [Pandas](https://www.kaggle.com/learn/pandas) course.  You can reference the tutorial at [this link](https://www.kaggle.com/residentmario/grouping-and-sorting).**\n",
    "\n",
    "---\n"
   ]
  },
  {
   "cell_type": "markdown",
   "id": "3f966287",
   "metadata": {
    "papermill": {
     "duration": 0.007494,
     "end_time": "2024-06-28T23:00:54.866149",
     "exception": false,
     "start_time": "2024-06-28T23:00:54.858655",
     "status": "completed"
    },
    "tags": []
   },
   "source": [
    "# Introduction\n",
    "\n",
    "In these exercises we'll apply groupwise analysis to our dataset.\n",
    "\n",
    "Run the code cell below to load the data before running the exercises."
   ]
  },
  {
   "cell_type": "code",
   "execution_count": 1,
   "id": "128a7394",
   "metadata": {
    "execution": {
     "iopub.execute_input": "2024-06-28T23:00:54.884689Z",
     "iopub.status.busy": "2024-06-28T23:00:54.884249Z",
     "iopub.status.idle": "2024-06-28T23:00:59.439855Z",
     "shell.execute_reply": "2024-06-28T23:00:59.438595Z"
    },
    "papermill": {
     "duration": 4.569311,
     "end_time": "2024-06-28T23:00:59.443375",
     "exception": false,
     "start_time": "2024-06-28T23:00:54.874064",
     "status": "completed"
    },
    "tags": []
   },
   "outputs": [
    {
     "name": "stdout",
     "output_type": "stream",
     "text": [
      "Setup complete.\n"
     ]
    },
    {
     "name": "stderr",
     "output_type": "stream",
     "text": [
      "/opt/conda/lib/python3.10/site-packages/learntools/pandas/grouping_and_sorting.py:29: FutureWarning: The provided callable <built-in function min> is currently using SeriesGroupBy.min. In a future version of pandas, the provided callable will be used directly. To keep current behavior pass the string \"min\" instead.\n",
      "  _expected = reviews.groupby('variety').price.agg([min, max])\n",
      "/opt/conda/lib/python3.10/site-packages/learntools/pandas/grouping_and_sorting.py:29: FutureWarning: The provided callable <built-in function max> is currently using SeriesGroupBy.max. In a future version of pandas, the provided callable will be used directly. To keep current behavior pass the string \"max\" instead.\n",
      "  _expected = reviews.groupby('variety').price.agg([min, max])\n",
      "/opt/conda/lib/python3.10/site-packages/learntools/pandas/grouping_and_sorting.py:35: FutureWarning: The provided callable <built-in function min> is currently using SeriesGroupBy.min. In a future version of pandas, the provided callable will be used directly. To keep current behavior pass the string \"min\" instead.\n",
      "  _expected = reviews.groupby('variety').price.agg([min, max]).sort_values(by=['min', 'max'], ascending=False)\n",
      "/opt/conda/lib/python3.10/site-packages/learntools/pandas/grouping_and_sorting.py:35: FutureWarning: The provided callable <built-in function max> is currently using SeriesGroupBy.max. In a future version of pandas, the provided callable will be used directly. To keep current behavior pass the string \"max\" instead.\n",
      "  _expected = reviews.groupby('variety').price.agg([min, max]).sort_values(by=['min', 'max'], ascending=False)\n"
     ]
    }
   ],
   "source": [
    "import pandas as pd\n",
    "\n",
    "reviews = pd.read_csv(\"../input/wine-reviews/winemag-data-130k-v2.csv\", index_col=0)\n",
    "#pd.set_option(\"display.max_rows\", 5)\n",
    "\n",
    "from learntools.core import binder; binder.bind(globals())\n",
    "from learntools.pandas.grouping_and_sorting import *\n",
    "print(\"Setup complete.\")"
   ]
  },
  {
   "cell_type": "markdown",
   "id": "5b172a86",
   "metadata": {
    "papermill": {
     "duration": 0.007804,
     "end_time": "2024-06-28T23:00:59.459319",
     "exception": false,
     "start_time": "2024-06-28T23:00:59.451515",
     "status": "completed"
    },
    "tags": []
   },
   "source": [
    "# Exercises"
   ]
  },
  {
   "cell_type": "markdown",
   "id": "e8520856",
   "metadata": {
    "papermill": {
     "duration": 0.007673,
     "end_time": "2024-06-28T23:00:59.475011",
     "exception": false,
     "start_time": "2024-06-28T23:00:59.467338",
     "status": "completed"
    },
    "tags": []
   },
   "source": [
    "## 1.\n",
    "Who are the most common wine reviewers in the dataset? Create a `Series` whose index is the `taster_twitter_handle` category from the dataset, and whose values count how many reviews each person wrote."
   ]
  },
  {
   "cell_type": "code",
   "execution_count": 2,
   "id": "d78b0037",
   "metadata": {
    "execution": {
     "iopub.execute_input": "2024-06-28T23:00:59.493492Z",
     "iopub.status.busy": "2024-06-28T23:00:59.492343Z",
     "iopub.status.idle": "2024-06-28T23:00:59.541158Z",
     "shell.execute_reply": "2024-06-28T23:00:59.540156Z"
    },
    "papermill": {
     "duration": 0.060834,
     "end_time": "2024-06-28T23:00:59.543885",
     "exception": false,
     "start_time": "2024-06-28T23:00:59.483051",
     "status": "completed"
    },
    "tags": []
   },
   "outputs": [
    {
     "data": {
      "application/javascript": [
       "parent.postMessage({\"jupyterEvent\": \"custom.exercise_interaction\", \"data\": {\"outcomeType\": 1, \"valueTowardsCompletion\": 0.16666666666666666, \"interactionType\": 1, \"questionType\": 1, \"questionId\": \"1_ReviewsWritten\", \"learnToolsVersion\": \"0.3.4\", \"failureMessage\": \"\", \"exceptionClass\": \"\", \"trace\": \"\"}}, \"*\")"
      ],
      "text/plain": [
       "<IPython.core.display.Javascript object>"
      ]
     },
     "metadata": {},
     "output_type": "display_data"
    },
    {
     "data": {
      "text/markdown": [
       "<span style=\"color:#33cc33\">Correct:</span> \n",
       "\n",
       "\n",
       "```python\n",
       "reviews_written = reviews.groupby('taster_twitter_handle').size()\n",
       "```\n",
       "or\n",
       "```python\n",
       "reviews_written = reviews.groupby('taster_twitter_handle').taster_twitter_handle.count()\n",
       "```\n"
      ],
      "text/plain": [
       "Correct: \n",
       "\n",
       "\n",
       "```python\n",
       "reviews_written = reviews.groupby('taster_twitter_handle').size()\n",
       "```\n",
       "or\n",
       "```python\n",
       "reviews_written = reviews.groupby('taster_twitter_handle').taster_twitter_handle.count()\n",
       "```"
      ]
     },
     "metadata": {},
     "output_type": "display_data"
    },
    {
     "name": "stdout",
     "output_type": "stream",
     "text": [
      "taster_twitter_handle\n",
      "@AnneInVino          3685\n",
      "@JoeCz               5147\n",
      "@bkfiona               27\n",
      "@gordone_cellars     4177\n",
      "@kerinokeefe        10776\n",
      "@laurbuzz            1835\n",
      "@mattkettmann        6332\n",
      "@paulgwine           9532\n",
      "@suskostrzewa        1085\n",
      "@vboone              9537\n",
      "@vossroger          25514\n",
      "@wawinereport        4966\n",
      "@wineschach         15134\n",
      "@winewchristina         6\n",
      "@worldwineguys       1005\n",
      "Name: taster_twitter_handle, dtype: int64\n"
     ]
    }
   ],
   "source": [
    "# Your code here\n",
    "#usando el metodo groupby, \n",
    "#agrupamos a todos los usuarios que twittearon\n",
    "#y cuantas veces (count) en una columna\n",
    "reviews_written = reviews.groupby([\"taster_twitter_handle\"]).taster_twitter_handle.count()\n",
    "# Check your answer\n",
    "q1.check()\n",
    "print(reviews_written)"
   ]
  },
  {
   "cell_type": "code",
   "execution_count": 3,
   "id": "582b7f19",
   "metadata": {
    "execution": {
     "iopub.execute_input": "2024-06-28T23:00:59.562655Z",
     "iopub.status.busy": "2024-06-28T23:00:59.562241Z",
     "iopub.status.idle": "2024-06-28T23:00:59.567142Z",
     "shell.execute_reply": "2024-06-28T23:00:59.566011Z"
    },
    "papermill": {
     "duration": 0.017348,
     "end_time": "2024-06-28T23:00:59.569825",
     "exception": false,
     "start_time": "2024-06-28T23:00:59.552477",
     "status": "completed"
    },
    "tags": []
   },
   "outputs": [],
   "source": [
    "#q1.hint()\n",
    "#q1.solution()"
   ]
  },
  {
   "cell_type": "markdown",
   "id": "3368393e",
   "metadata": {
    "papermill": {
     "duration": 0.00855,
     "end_time": "2024-06-28T23:00:59.588136",
     "exception": false,
     "start_time": "2024-06-28T23:00:59.579586",
     "status": "completed"
    },
    "tags": []
   },
   "source": [
    "## 2.\n",
    "What is the best wine I can buy for a given amount of money? Create a `Series` whose index is wine prices and whose values is the maximum number of points a wine costing that much was given in a review. Sort the values by price, ascending (so that `4.0` dollars is at the top and `3300.0` dollars is at the bottom)."
   ]
  },
  {
   "cell_type": "code",
   "execution_count": 4,
   "id": "d3d74dca",
   "metadata": {
    "execution": {
     "iopub.execute_input": "2024-06-28T23:00:59.607425Z",
     "iopub.status.busy": "2024-06-28T23:00:59.607026Z",
     "iopub.status.idle": "2024-06-28T23:00:59.625585Z",
     "shell.execute_reply": "2024-06-28T23:00:59.624511Z"
    },
    "papermill": {
     "duration": 0.031915,
     "end_time": "2024-06-28T23:00:59.628877",
     "exception": false,
     "start_time": "2024-06-28T23:00:59.596962",
     "status": "completed"
    },
    "tags": []
   },
   "outputs": [
    {
     "data": {
      "application/javascript": [
       "parent.postMessage({\"jupyterEvent\": \"custom.exercise_interaction\", \"data\": {\"outcomeType\": 1, \"valueTowardsCompletion\": 0.16666666666666666, \"interactionType\": 1, \"questionType\": 1, \"questionId\": \"2_BestRatingPerPrice\", \"learnToolsVersion\": \"0.3.4\", \"failureMessage\": \"\", \"exceptionClass\": \"\", \"trace\": \"\"}}, \"*\")"
      ],
      "text/plain": [
       "<IPython.core.display.Javascript object>"
      ]
     },
     "metadata": {},
     "output_type": "display_data"
    },
    {
     "data": {
      "text/markdown": [
       "<span style=\"color:#33cc33\">Correct</span>"
      ],
      "text/plain": [
       "Correct"
      ]
     },
     "metadata": {},
     "output_type": "display_data"
    },
    {
     "name": "stdout",
     "output_type": "stream",
     "text": [
      "price\n",
      "4.0       86\n",
      "5.0       87\n",
      "6.0       88\n",
      "7.0       91\n",
      "8.0       91\n",
      "          ..\n",
      "1900.0    98\n",
      "2000.0    97\n",
      "2013.0    91\n",
      "2500.0    96\n",
      "3300.0    88\n",
      "Name: points, Length: 390, dtype: int64\n"
     ]
    }
   ],
   "source": [
    "best_rating_per_price = reviews.groupby('price')['points'].max().sort_index()\n",
    "\n",
    "# Check your answer\n",
    "q2.check()\n",
    "print(best_rating_per_price)"
   ]
  },
  {
   "cell_type": "code",
   "execution_count": 5,
   "id": "b1741d8f",
   "metadata": {
    "execution": {
     "iopub.execute_input": "2024-06-28T23:00:59.648839Z",
     "iopub.status.busy": "2024-06-28T23:00:59.648427Z",
     "iopub.status.idle": "2024-06-28T23:00:59.653251Z",
     "shell.execute_reply": "2024-06-28T23:00:59.652140Z"
    },
    "papermill": {
     "duration": 0.017708,
     "end_time": "2024-06-28T23:00:59.655768",
     "exception": false,
     "start_time": "2024-06-28T23:00:59.638060",
     "status": "completed"
    },
    "tags": []
   },
   "outputs": [],
   "source": [
    "#q2.hint()\n",
    "#q2.solution()"
   ]
  },
  {
   "cell_type": "markdown",
   "id": "9f90672e",
   "metadata": {
    "papermill": {
     "duration": 0.008922,
     "end_time": "2024-06-28T23:00:59.674354",
     "exception": false,
     "start_time": "2024-06-28T23:00:59.665432",
     "status": "completed"
    },
    "tags": []
   },
   "source": [
    "## 3.\n",
    "What are the minimum and maximum prices for each `variety` of wine? Create a `DataFrame` whose index is the `variety` category from the dataset and whose values are the `min` and `max` values thereof."
   ]
  },
  {
   "cell_type": "code",
   "execution_count": 6,
   "id": "082dc2e6",
   "metadata": {
    "execution": {
     "iopub.execute_input": "2024-06-28T23:00:59.695646Z",
     "iopub.status.busy": "2024-06-28T23:00:59.694756Z",
     "iopub.status.idle": "2024-06-28T23:00:59.743312Z",
     "shell.execute_reply": "2024-06-28T23:00:59.741878Z"
    },
    "papermill": {
     "duration": 0.062453,
     "end_time": "2024-06-28T23:00:59.746166",
     "exception": false,
     "start_time": "2024-06-28T23:00:59.683713",
     "status": "completed"
    },
    "tags": []
   },
   "outputs": [
    {
     "name": "stderr",
     "output_type": "stream",
     "text": [
      "/tmp/ipykernel_18/3439045955.py:1: FutureWarning: The provided callable <built-in function min> is currently using SeriesGroupBy.min. In a future version of pandas, the provided callable will be used directly. To keep current behavior pass the string \"min\" instead.\n",
      "  price_extremes = reviews.groupby('variety').price.agg([min, max])\n",
      "/tmp/ipykernel_18/3439045955.py:1: FutureWarning: The provided callable <built-in function max> is currently using SeriesGroupBy.max. In a future version of pandas, the provided callable will be used directly. To keep current behavior pass the string \"max\" instead.\n",
      "  price_extremes = reviews.groupby('variety').price.agg([min, max])\n"
     ]
    },
    {
     "data": {
      "application/javascript": [
       "parent.postMessage({\"jupyterEvent\": \"custom.exercise_interaction\", \"data\": {\"outcomeType\": 1, \"valueTowardsCompletion\": 0.16666666666666666, \"interactionType\": 1, \"questionType\": 1, \"questionId\": \"3_PriceExtremes\", \"learnToolsVersion\": \"0.3.4\", \"failureMessage\": \"\", \"exceptionClass\": \"\", \"trace\": \"\"}}, \"*\")"
      ],
      "text/plain": [
       "<IPython.core.display.Javascript object>"
      ]
     },
     "metadata": {},
     "output_type": "display_data"
    },
    {
     "data": {
      "text/markdown": [
       "<span style=\"color:#33cc33\">Correct</span>"
      ],
      "text/plain": [
       "Correct"
      ]
     },
     "metadata": {},
     "output_type": "display_data"
    },
    {
     "name": "stdout",
     "output_type": "stream",
     "text": [
      "              min    max\n",
      "variety                 \n",
      "Abouriou     15.0   75.0\n",
      "Agiorgitiko  10.0   66.0\n",
      "Aglianico     6.0  180.0\n",
      "Aidani       27.0   27.0\n",
      "Airen         8.0   10.0\n",
      "...           ...    ...\n",
      "Zinfandel     5.0  100.0\n",
      "Zlahtina     13.0   16.0\n",
      "Zweigelt      9.0   70.0\n",
      "Çalkarası    19.0   19.0\n",
      "Žilavka      15.0   15.0\n",
      "\n",
      "[707 rows x 2 columns]\n"
     ]
    }
   ],
   "source": [
    "price_extremes = reviews.groupby('variety').price.agg([min, max])\n",
    "\n",
    "# Check your answer\n",
    "q3.check()\n",
    "print(price_extremes)"
   ]
  },
  {
   "cell_type": "code",
   "execution_count": 7,
   "id": "43dd9cef",
   "metadata": {
    "execution": {
     "iopub.execute_input": "2024-06-28T23:00:59.768256Z",
     "iopub.status.busy": "2024-06-28T23:00:59.767072Z",
     "iopub.status.idle": "2024-06-28T23:00:59.773242Z",
     "shell.execute_reply": "2024-06-28T23:00:59.772076Z"
    },
    "papermill": {
     "duration": 0.02047,
     "end_time": "2024-06-28T23:00:59.776514",
     "exception": false,
     "start_time": "2024-06-28T23:00:59.756044",
     "status": "completed"
    },
    "tags": []
   },
   "outputs": [],
   "source": [
    "#q3.hint()\n",
    "#q3.solution()"
   ]
  },
  {
   "cell_type": "markdown",
   "id": "e71e56b8",
   "metadata": {
    "papermill": {
     "duration": 0.011981,
     "end_time": "2024-06-28T23:00:59.801103",
     "exception": false,
     "start_time": "2024-06-28T23:00:59.789122",
     "status": "completed"
    },
    "tags": []
   },
   "source": [
    "## 4.\n",
    "What are the most expensive wine varieties? Create a variable `sorted_varieties` containing a copy of the dataframe from the previous question where varieties are sorted in descending order based on minimum price, then on maximum price (to break ties)."
   ]
  },
  {
   "cell_type": "code",
   "execution_count": 8,
   "id": "f7f11a25",
   "metadata": {
    "execution": {
     "iopub.execute_input": "2024-06-28T23:00:59.826120Z",
     "iopub.status.busy": "2024-06-28T23:00:59.825046Z",
     "iopub.status.idle": "2024-06-28T23:00:59.876388Z",
     "shell.execute_reply": "2024-06-28T23:00:59.875303Z"
    },
    "papermill": {
     "duration": 0.067146,
     "end_time": "2024-06-28T23:00:59.879355",
     "exception": false,
     "start_time": "2024-06-28T23:00:59.812209",
     "status": "completed"
    },
    "tags": []
   },
   "outputs": [
    {
     "name": "stderr",
     "output_type": "stream",
     "text": [
      "/tmp/ipykernel_18/4178501601.py:1: FutureWarning: The provided callable <built-in function min> is currently using SeriesGroupBy.min. In a future version of pandas, the provided callable will be used directly. To keep current behavior pass the string \"min\" instead.\n",
      "  sorted_varieties = reviews.groupby('variety').price.agg([min,max]).sort_values(by=['min', 'max'], ascending=False)\n",
      "/tmp/ipykernel_18/4178501601.py:1: FutureWarning: The provided callable <built-in function max> is currently using SeriesGroupBy.max. In a future version of pandas, the provided callable will be used directly. To keep current behavior pass the string \"max\" instead.\n",
      "  sorted_varieties = reviews.groupby('variety').price.agg([min,max]).sort_values(by=['min', 'max'], ascending=False)\n"
     ]
    },
    {
     "data": {
      "application/javascript": [
       "parent.postMessage({\"jupyterEvent\": \"custom.exercise_interaction\", \"data\": {\"outcomeType\": 1, \"valueTowardsCompletion\": 0.16666666666666666, \"interactionType\": 1, \"questionType\": 1, \"questionId\": \"4_SortedVarieties\", \"learnToolsVersion\": \"0.3.4\", \"failureMessage\": \"\", \"exceptionClass\": \"\", \"trace\": \"\"}}, \"*\")"
      ],
      "text/plain": [
       "<IPython.core.display.Javascript object>"
      ]
     },
     "metadata": {},
     "output_type": "display_data"
    },
    {
     "data": {
      "text/markdown": [
       "<span style=\"color:#33cc33\">Correct</span>"
      ],
      "text/plain": [
       "Correct"
      ]
     },
     "metadata": {},
     "output_type": "display_data"
    },
    {
     "name": "stdout",
     "output_type": "stream",
     "text": [
      "                                  min    max\n",
      "variety                                     \n",
      "Ramisco                         495.0  495.0\n",
      "Terrantez                       236.0  236.0\n",
      "Francisa                        160.0  160.0\n",
      "Rosenmuskateller                150.0  150.0\n",
      "Tinta Negra Mole                112.0  112.0\n",
      "...                               ...    ...\n",
      "Roscetto                          NaN    NaN\n",
      "Sauvignon Blanc-Sauvignon Gris    NaN    NaN\n",
      "Tempranillo-Malbec                NaN    NaN\n",
      "Vital                             NaN    NaN\n",
      "Zelen                             NaN    NaN\n",
      "\n",
      "[707 rows x 2 columns]\n"
     ]
    }
   ],
   "source": [
    "sorted_varieties = reviews.groupby('variety').price.agg([min,max]).sort_values(by=['min', 'max'], ascending=False)\n",
    "#ascending = False --> orden descendente\n",
    "# Check your answer\n",
    "q4.check()\n",
    "print(sorted_varieties)"
   ]
  },
  {
   "cell_type": "code",
   "execution_count": 9,
   "id": "2155f4cb",
   "metadata": {
    "execution": {
     "iopub.execute_input": "2024-06-28T23:00:59.903544Z",
     "iopub.status.busy": "2024-06-28T23:00:59.903105Z",
     "iopub.status.idle": "2024-06-28T23:00:59.908522Z",
     "shell.execute_reply": "2024-06-28T23:00:59.906833Z"
    },
    "papermill": {
     "duration": 0.020924,
     "end_time": "2024-06-28T23:00:59.911663",
     "exception": false,
     "start_time": "2024-06-28T23:00:59.890739",
     "status": "completed"
    },
    "tags": []
   },
   "outputs": [],
   "source": [
    "#q4.hint()\n",
    "#q4.solution()"
   ]
  },
  {
   "cell_type": "markdown",
   "id": "f19fdf2b",
   "metadata": {
    "papermill": {
     "duration": 0.014255,
     "end_time": "2024-06-28T23:00:59.940002",
     "exception": false,
     "start_time": "2024-06-28T23:00:59.925747",
     "status": "completed"
    },
    "tags": []
   },
   "source": [
    "## 5.\n",
    "Create a `Series` whose index is reviewers and whose values is the average review score given out by that reviewer. Hint: you will need the `taster_name` and `points` columns."
   ]
  },
  {
   "cell_type": "code",
   "execution_count": 10,
   "id": "a6e3e543",
   "metadata": {
    "execution": {
     "iopub.execute_input": "2024-06-28T23:00:59.972815Z",
     "iopub.status.busy": "2024-06-28T23:00:59.972291Z",
     "iopub.status.idle": "2024-06-28T23:01:00.022662Z",
     "shell.execute_reply": "2024-06-28T23:01:00.020357Z"
    },
    "papermill": {
     "duration": 0.073403,
     "end_time": "2024-06-28T23:01:00.028868",
     "exception": false,
     "start_time": "2024-06-28T23:00:59.955465",
     "status": "completed"
    },
    "tags": []
   },
   "outputs": [
    {
     "data": {
      "application/javascript": [
       "parent.postMessage({\"jupyterEvent\": \"custom.exercise_interaction\", \"data\": {\"outcomeType\": 1, \"valueTowardsCompletion\": 0.16666666666666666, \"interactionType\": 1, \"questionType\": 1, \"questionId\": \"5_ReviewerMeanRatings\", \"learnToolsVersion\": \"0.3.4\", \"failureMessage\": \"\", \"exceptionClass\": \"\", \"trace\": \"\"}}, \"*\")"
      ],
      "text/plain": [
       "<IPython.core.display.Javascript object>"
      ]
     },
     "metadata": {},
     "output_type": "display_data"
    },
    {
     "data": {
      "text/markdown": [
       "<span style=\"color:#33cc33\">Correct</span>"
      ],
      "text/plain": [
       "Correct"
      ]
     },
     "metadata": {},
     "output_type": "display_data"
    },
    {
     "name": "stdout",
     "output_type": "stream",
     "text": [
      "taster_name\n",
      "Alexander Peartree    85.855422\n",
      "Anna Lee C. Iijima    88.415629\n",
      "Anne Krebiehl MW      90.562551\n",
      "Carrie Dykes          86.395683\n",
      "Christina Pickard     87.833333\n",
      "Fiona Adams           86.888889\n",
      "Jeff Jenssen          88.319756\n",
      "Jim Gordon            88.626287\n",
      "Joe Czerwinski        88.536235\n",
      "Kerin O’Keefe         88.867947\n",
      "Lauren Buzzeo         87.739510\n",
      "Matt Kettmann         90.008686\n",
      "Michael Schachner     86.907493\n",
      "Mike DeSimone         89.101167\n",
      "Paul Gregutt          89.082564\n",
      "Roger Voss            88.708003\n",
      "Sean P. Sullivan      88.755739\n",
      "Susan Kostrzewa       86.609217\n",
      "Virginie Boone        89.213379\n",
      "Name: points, dtype: float64\n"
     ]
    }
   ],
   "source": [
    "reviewer_mean_ratings = reviews.groupby(\"taster_name\").points.mean()\n",
    "\n",
    "# Check your answer\n",
    "q5.check()\n",
    "print(reviewer_mean_ratings)"
   ]
  },
  {
   "cell_type": "code",
   "execution_count": 11,
   "id": "b0a42fdd",
   "metadata": {
    "execution": {
     "iopub.execute_input": "2024-06-28T23:01:00.056145Z",
     "iopub.status.busy": "2024-06-28T23:01:00.055264Z",
     "iopub.status.idle": "2024-06-28T23:01:00.059984Z",
     "shell.execute_reply": "2024-06-28T23:01:00.058830Z"
    },
    "papermill": {
     "duration": 0.019717,
     "end_time": "2024-06-28T23:01:00.062574",
     "exception": false,
     "start_time": "2024-06-28T23:01:00.042857",
     "status": "completed"
    },
    "tags": []
   },
   "outputs": [],
   "source": [
    "#q5.hint()\n",
    "#q5.solution()"
   ]
  },
  {
   "cell_type": "markdown",
   "id": "43a0d946",
   "metadata": {
    "papermill": {
     "duration": 0.010726,
     "end_time": "2024-06-28T23:01:00.084315",
     "exception": false,
     "start_time": "2024-06-28T23:01:00.073589",
     "status": "completed"
    },
    "tags": []
   },
   "source": [
    "Are there significant differences in the average scores assigned by the various reviewers? Run the cell below to use the `describe()` method to see a summary of the range of values."
   ]
  },
  {
   "cell_type": "code",
   "execution_count": 12,
   "id": "72aea67f",
   "metadata": {
    "execution": {
     "iopub.execute_input": "2024-06-28T23:01:00.112693Z",
     "iopub.status.busy": "2024-06-28T23:01:00.111942Z",
     "iopub.status.idle": "2024-06-28T23:01:00.124591Z",
     "shell.execute_reply": "2024-06-28T23:01:00.123168Z"
    },
    "papermill": {
     "duration": 0.02996,
     "end_time": "2024-06-28T23:01:00.127120",
     "exception": false,
     "start_time": "2024-06-28T23:01:00.097160",
     "status": "completed"
    },
    "tags": []
   },
   "outputs": [
    {
     "data": {
      "text/plain": [
       "count    19.000000\n",
       "mean     88.233026\n",
       "std       1.243610\n",
       "min      85.855422\n",
       "25%      87.323501\n",
       "50%      88.536235\n",
       "75%      88.975256\n",
       "max      90.562551\n",
       "Name: points, dtype: float64"
      ]
     },
     "execution_count": 12,
     "metadata": {},
     "output_type": "execute_result"
    }
   ],
   "source": [
    "reviewer_mean_ratings.describe()"
   ]
  },
  {
   "cell_type": "markdown",
   "id": "993eefcf",
   "metadata": {
    "papermill": {
     "duration": 0.010885,
     "end_time": "2024-06-28T23:01:00.149884",
     "exception": false,
     "start_time": "2024-06-28T23:01:00.138999",
     "status": "completed"
    },
    "tags": []
   },
   "source": [
    "## 6.\n",
    "What combination of countries and varieties are most common? Create a `Series` whose index is a `MultiIndex`of `{country, variety}` pairs. For example, a pinot noir produced in the US should map to `{\"US\", \"Pinot Noir\"}`. Sort the values in the `Series` in descending order based on wine count."
   ]
  },
  {
   "cell_type": "code",
   "execution_count": 13,
   "id": "8de0e441",
   "metadata": {
    "execution": {
     "iopub.execute_input": "2024-06-28T23:01:00.177948Z",
     "iopub.status.busy": "2024-06-28T23:01:00.177511Z",
     "iopub.status.idle": "2024-06-28T23:01:00.255134Z",
     "shell.execute_reply": "2024-06-28T23:01:00.254053Z"
    },
    "papermill": {
     "duration": 0.097278,
     "end_time": "2024-06-28T23:01:00.258951",
     "exception": false,
     "start_time": "2024-06-28T23:01:00.161673",
     "status": "completed"
    },
    "tags": []
   },
   "outputs": [
    {
     "data": {
      "application/javascript": [
       "parent.postMessage({\"jupyterEvent\": \"custom.exercise_interaction\", \"data\": {\"outcomeType\": 1, \"valueTowardsCompletion\": 0.16666666666666666, \"interactionType\": 1, \"questionType\": 1, \"questionId\": \"6_GroupbyCountryVariety\", \"learnToolsVersion\": \"0.3.4\", \"failureMessage\": \"\", \"exceptionClass\": \"\", \"trace\": \"\"}}, \"*\")"
      ],
      "text/plain": [
       "<IPython.core.display.Javascript object>"
      ]
     },
     "metadata": {},
     "output_type": "display_data"
    },
    {
     "data": {
      "text/markdown": [
       "<span style=\"color:#33cc33\">Correct</span>"
      ],
      "text/plain": [
       "Correct"
      ]
     },
     "metadata": {},
     "output_type": "display_data"
    },
    {
     "name": "stdout",
     "output_type": "stream",
     "text": [
      "country  variety                 \n",
      "US       Pinot Noir                  9885\n",
      "         Cabernet Sauvignon          7315\n",
      "         Chardonnay                  6801\n",
      "France   Bordeaux-style Red Blend    4725\n",
      "Italy    Red Blend                   3624\n",
      "                                     ... \n",
      "Mexico   Cinsault                       1\n",
      "         Grenache                       1\n",
      "         Merlot                         1\n",
      "         Rosado                         1\n",
      "Uruguay  White Blend                    1\n",
      "Length: 1612, dtype: int64\n"
     ]
    }
   ],
   "source": [
    "country_variety_counts = reviews.groupby([\"country\", \"variety\"]).size().sort_values(ascending=False)\n",
    "\n",
    "# Check your answer\n",
    "q6.check()\n",
    "print(country_variety_counts)"
   ]
  },
  {
   "cell_type": "code",
   "execution_count": 14,
   "id": "3ab9d92e",
   "metadata": {
    "execution": {
     "iopub.execute_input": "2024-06-28T23:01:00.284301Z",
     "iopub.status.busy": "2024-06-28T23:01:00.283898Z",
     "iopub.status.idle": "2024-06-28T23:01:00.288578Z",
     "shell.execute_reply": "2024-06-28T23:01:00.287515Z"
    },
    "papermill": {
     "duration": 0.020344,
     "end_time": "2024-06-28T23:01:00.291349",
     "exception": false,
     "start_time": "2024-06-28T23:01:00.271005",
     "status": "completed"
    },
    "tags": []
   },
   "outputs": [],
   "source": [
    "#q6.hint()\n",
    "#q6.solution()"
   ]
  },
  {
   "cell_type": "markdown",
   "id": "cc882f74",
   "metadata": {
    "papermill": {
     "duration": 0.011887,
     "end_time": "2024-06-28T23:01:00.314938",
     "exception": false,
     "start_time": "2024-06-28T23:01:00.303051",
     "status": "completed"
    },
    "tags": []
   },
   "source": [
    "# Keep going\n",
    "\n",
    "Move on to the [**data types and missing data**](https://www.kaggle.com/residentmario/data-types-and-missing-values)."
   ]
  },
  {
   "cell_type": "markdown",
   "id": "e65bfd8f",
   "metadata": {
    "papermill": {
     "duration": 0.011395,
     "end_time": "2024-06-28T23:01:00.338956",
     "exception": false,
     "start_time": "2024-06-28T23:01:00.327561",
     "status": "completed"
    },
    "tags": []
   },
   "source": [
    "---\n",
    "\n",
    "\n",
    "\n",
    "\n",
    "*Have questions or comments? Visit the [course discussion forum](https://www.kaggle.com/learn/pandas/discussion) to chat with other learners.*"
   ]
  }
 ],
 "metadata": {
  "kaggle": {
   "accelerator": "none",
   "dataSources": [
    {
     "datasetId": 655,
     "sourceId": 1252,
     "sourceType": "datasetVersion"
    },
    {
     "datasetId": 2321,
     "sourceId": 3919,
     "sourceType": "datasetVersion"
    },
    {
     "datasetId": 2894,
     "sourceId": 4877,
     "sourceType": "datasetVersion"
    },
    {
     "datasetId": 3491,
     "sourceId": 5624,
     "sourceType": "datasetVersion"
    },
    {
     "datasetId": 1442,
     "sourceId": 8172,
     "sourceType": "datasetVersion"
    },
    {
     "datasetId": 9366,
     "sourceId": 13206,
     "sourceType": "datasetVersion"
    },
    {
     "datasetId": 179555,
     "sourceId": 403916,
     "sourceType": "datasetVersion"
    },
    {
     "datasetId": 4549,
     "sourceId": 466349,
     "sourceType": "datasetVersion"
    },
    {
     "datasetId": 2478,
     "sourceId": 1151655,
     "sourceType": "datasetVersion"
    },
    {
     "datasetId": 10128,
     "sourceId": 5438389,
     "sourceType": "datasetVersion"
    }
   ],
   "isGpuEnabled": false,
   "isInternetEnabled": false,
   "language": "python",
   "sourceType": "notebook"
  },
  "kernelspec": {
   "display_name": "Python 3",
   "language": "python",
   "name": "python3"
  },
  "language_info": {
   "codemirror_mode": {
    "name": "ipython",
    "version": 3
   },
   "file_extension": ".py",
   "mimetype": "text/x-python",
   "name": "python",
   "nbconvert_exporter": "python",
   "pygments_lexer": "ipython3",
   "version": "3.10.13"
  },
  "papermill": {
   "default_parameters": {},
   "duration": 9.392354,
   "end_time": "2024-06-28T23:01:00.973161",
   "environment_variables": {},
   "exception": null,
   "input_path": "__notebook__.ipynb",
   "output_path": "__notebook__.ipynb",
   "parameters": {},
   "start_time": "2024-06-28T23:00:51.580807",
   "version": "2.5.0"
  }
 },
 "nbformat": 4,
 "nbformat_minor": 5
}
