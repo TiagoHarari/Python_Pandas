{
 "cells": [
  {
   "cell_type": "markdown",
   "id": "92d3bf9a",
   "metadata": {
    "papermill": {
     "duration": 0.006462,
     "end_time": "2024-06-28T20:46:03.797608",
     "exception": false,
     "start_time": "2024-06-28T20:46:03.791146",
     "status": "completed"
    },
    "tags": []
   },
   "source": [
    "**This notebook is an exercise in the [Pandas](https://www.kaggle.com/learn/pandas) course.  You can reference the tutorial at [this link](https://www.kaggle.com/residentmario/summary-functions-and-maps).**\n",
    "\n",
    "---\n"
   ]
  },
  {
   "cell_type": "markdown",
   "id": "666e80ac",
   "metadata": {
    "papermill": {
     "duration": 0.005526,
     "end_time": "2024-06-28T20:46:03.809130",
     "exception": false,
     "start_time": "2024-06-28T20:46:03.803604",
     "status": "completed"
    },
    "tags": []
   },
   "source": [
    "# Introduction\n",
    "\n",
    "Now you are ready to get a deeper understanding of your data.\n",
    "\n",
    "Run the following cell to load your data and some utility functions (including code to check your answers)."
   ]
  },
  {
   "cell_type": "code",
   "execution_count": 1,
   "id": "9fe04a7d",
   "metadata": {
    "execution": {
     "iopub.execute_input": "2024-06-28T20:46:03.822737Z",
     "iopub.status.busy": "2024-06-28T20:46:03.822236Z",
     "iopub.status.idle": "2024-06-28T20:46:11.505204Z",
     "shell.execute_reply": "2024-06-28T20:46:11.504079Z"
    },
    "papermill": {
     "duration": 7.693047,
     "end_time": "2024-06-28T20:46:11.508001",
     "exception": false,
     "start_time": "2024-06-28T20:46:03.814954",
     "status": "completed"
    },
    "tags": []
   },
   "outputs": [
    {
     "name": "stdout",
     "output_type": "stream",
     "text": [
      "Setup complete.\n"
     ]
    },
    {
     "data": {
      "text/html": [
       "<div>\n",
       "<style scoped>\n",
       "    .dataframe tbody tr th:only-of-type {\n",
       "        vertical-align: middle;\n",
       "    }\n",
       "\n",
       "    .dataframe tbody tr th {\n",
       "        vertical-align: top;\n",
       "    }\n",
       "\n",
       "    .dataframe thead th {\n",
       "        text-align: right;\n",
       "    }\n",
       "</style>\n",
       "<table border=\"1\" class=\"dataframe\">\n",
       "  <thead>\n",
       "    <tr style=\"text-align: right;\">\n",
       "      <th></th>\n",
       "      <th>country</th>\n",
       "      <th>description</th>\n",
       "      <th>designation</th>\n",
       "      <th>points</th>\n",
       "      <th>price</th>\n",
       "      <th>province</th>\n",
       "      <th>region_1</th>\n",
       "      <th>region_2</th>\n",
       "      <th>taster_name</th>\n",
       "      <th>taster_twitter_handle</th>\n",
       "      <th>title</th>\n",
       "      <th>variety</th>\n",
       "      <th>winery</th>\n",
       "    </tr>\n",
       "  </thead>\n",
       "  <tbody>\n",
       "    <tr>\n",
       "      <th>0</th>\n",
       "      <td>Italy</td>\n",
       "      <td>Aromas include tropical fruit, broom, brimston...</td>\n",
       "      <td>Vulkà Bianco</td>\n",
       "      <td>87</td>\n",
       "      <td>NaN</td>\n",
       "      <td>Sicily &amp; Sardinia</td>\n",
       "      <td>Etna</td>\n",
       "      <td>NaN</td>\n",
       "      <td>Kerin O’Keefe</td>\n",
       "      <td>@kerinokeefe</td>\n",
       "      <td>Nicosia 2013 Vulkà Bianco  (Etna)</td>\n",
       "      <td>White Blend</td>\n",
       "      <td>Nicosia</td>\n",
       "    </tr>\n",
       "    <tr>\n",
       "      <th>1</th>\n",
       "      <td>Portugal</td>\n",
       "      <td>This is ripe and fruity, a wine that is smooth...</td>\n",
       "      <td>Avidagos</td>\n",
       "      <td>87</td>\n",
       "      <td>15.0</td>\n",
       "      <td>Douro</td>\n",
       "      <td>NaN</td>\n",
       "      <td>NaN</td>\n",
       "      <td>Roger Voss</td>\n",
       "      <td>@vossroger</td>\n",
       "      <td>Quinta dos Avidagos 2011 Avidagos Red (Douro)</td>\n",
       "      <td>Portuguese Red</td>\n",
       "      <td>Quinta dos Avidagos</td>\n",
       "    </tr>\n",
       "    <tr>\n",
       "      <th>2</th>\n",
       "      <td>US</td>\n",
       "      <td>Tart and snappy, the flavors of lime flesh and...</td>\n",
       "      <td>NaN</td>\n",
       "      <td>87</td>\n",
       "      <td>14.0</td>\n",
       "      <td>Oregon</td>\n",
       "      <td>Willamette Valley</td>\n",
       "      <td>Willamette Valley</td>\n",
       "      <td>Paul Gregutt</td>\n",
       "      <td>@paulgwine</td>\n",
       "      <td>Rainstorm 2013 Pinot Gris (Willamette Valley)</td>\n",
       "      <td>Pinot Gris</td>\n",
       "      <td>Rainstorm</td>\n",
       "    </tr>\n",
       "    <tr>\n",
       "      <th>3</th>\n",
       "      <td>US</td>\n",
       "      <td>Pineapple rind, lemon pith and orange blossom ...</td>\n",
       "      <td>Reserve Late Harvest</td>\n",
       "      <td>87</td>\n",
       "      <td>13.0</td>\n",
       "      <td>Michigan</td>\n",
       "      <td>Lake Michigan Shore</td>\n",
       "      <td>NaN</td>\n",
       "      <td>Alexander Peartree</td>\n",
       "      <td>NaN</td>\n",
       "      <td>St. Julian 2013 Reserve Late Harvest Riesling ...</td>\n",
       "      <td>Riesling</td>\n",
       "      <td>St. Julian</td>\n",
       "    </tr>\n",
       "    <tr>\n",
       "      <th>4</th>\n",
       "      <td>US</td>\n",
       "      <td>Much like the regular bottling from 2012, this...</td>\n",
       "      <td>Vintner's Reserve Wild Child Block</td>\n",
       "      <td>87</td>\n",
       "      <td>65.0</td>\n",
       "      <td>Oregon</td>\n",
       "      <td>Willamette Valley</td>\n",
       "      <td>Willamette Valley</td>\n",
       "      <td>Paul Gregutt</td>\n",
       "      <td>@paulgwine</td>\n",
       "      <td>Sweet Cheeks 2012 Vintner's Reserve Wild Child...</td>\n",
       "      <td>Pinot Noir</td>\n",
       "      <td>Sweet Cheeks</td>\n",
       "    </tr>\n",
       "  </tbody>\n",
       "</table>\n",
       "</div>"
      ],
      "text/plain": [
       "    country                                        description  \\\n",
       "0     Italy  Aromas include tropical fruit, broom, brimston...   \n",
       "1  Portugal  This is ripe and fruity, a wine that is smooth...   \n",
       "2        US  Tart and snappy, the flavors of lime flesh and...   \n",
       "3        US  Pineapple rind, lemon pith and orange blossom ...   \n",
       "4        US  Much like the regular bottling from 2012, this...   \n",
       "\n",
       "                          designation  points  price           province  \\\n",
       "0                        Vulkà Bianco      87    NaN  Sicily & Sardinia   \n",
       "1                            Avidagos      87   15.0              Douro   \n",
       "2                                 NaN      87   14.0             Oregon   \n",
       "3                Reserve Late Harvest      87   13.0           Michigan   \n",
       "4  Vintner's Reserve Wild Child Block      87   65.0             Oregon   \n",
       "\n",
       "              region_1           region_2         taster_name  \\\n",
       "0                 Etna                NaN       Kerin O’Keefe   \n",
       "1                  NaN                NaN          Roger Voss   \n",
       "2    Willamette Valley  Willamette Valley        Paul Gregutt   \n",
       "3  Lake Michigan Shore                NaN  Alexander Peartree   \n",
       "4    Willamette Valley  Willamette Valley        Paul Gregutt   \n",
       "\n",
       "  taster_twitter_handle                                              title  \\\n",
       "0          @kerinokeefe                  Nicosia 2013 Vulkà Bianco  (Etna)   \n",
       "1            @vossroger      Quinta dos Avidagos 2011 Avidagos Red (Douro)   \n",
       "2           @paulgwine       Rainstorm 2013 Pinot Gris (Willamette Valley)   \n",
       "3                   NaN  St. Julian 2013 Reserve Late Harvest Riesling ...   \n",
       "4           @paulgwine   Sweet Cheeks 2012 Vintner's Reserve Wild Child...   \n",
       "\n",
       "          variety               winery  \n",
       "0     White Blend              Nicosia  \n",
       "1  Portuguese Red  Quinta dos Avidagos  \n",
       "2      Pinot Gris            Rainstorm  \n",
       "3        Riesling           St. Julian  \n",
       "4      Pinot Noir         Sweet Cheeks  "
      ]
     },
     "execution_count": 1,
     "metadata": {},
     "output_type": "execute_result"
    }
   ],
   "source": [
    "import pandas as pd\n",
    "pd.set_option(\"display.max_rows\", 5)\n",
    "reviews = pd.read_csv(\"../input/wine-reviews/winemag-data-130k-v2.csv\", index_col=0)\n",
    "\n",
    "from learntools.core import binder; binder.bind(globals())\n",
    "from learntools.pandas.summary_functions_and_maps import *\n",
    "print(\"Setup complete.\")\n",
    "\n",
    "reviews.head()"
   ]
  },
  {
   "cell_type": "markdown",
   "id": "60d9c748",
   "metadata": {
    "papermill": {
     "duration": 0.006134,
     "end_time": "2024-06-28T20:46:11.520854",
     "exception": false,
     "start_time": "2024-06-28T20:46:11.514720",
     "status": "completed"
    },
    "tags": []
   },
   "source": [
    "# Exercises"
   ]
  },
  {
   "cell_type": "markdown",
   "id": "f84d47f2",
   "metadata": {
    "papermill": {
     "duration": 0.006046,
     "end_time": "2024-06-28T20:46:11.533256",
     "exception": false,
     "start_time": "2024-06-28T20:46:11.527210",
     "status": "completed"
    },
    "tags": []
   },
   "source": [
    "## 1.\n",
    "\n",
    "What is the median of the `points` column in the `reviews` DataFrame?"
   ]
  },
  {
   "cell_type": "code",
   "execution_count": 2,
   "id": "a24964b0",
   "metadata": {
    "execution": {
     "iopub.execute_input": "2024-06-28T20:46:11.547747Z",
     "iopub.status.busy": "2024-06-28T20:46:11.547343Z",
     "iopub.status.idle": "2024-06-28T20:46:11.559653Z",
     "shell.execute_reply": "2024-06-28T20:46:11.558565Z"
    },
    "papermill": {
     "duration": 0.022753,
     "end_time": "2024-06-28T20:46:11.562500",
     "exception": false,
     "start_time": "2024-06-28T20:46:11.539747",
     "status": "completed"
    },
    "tags": []
   },
   "outputs": [
    {
     "data": {
      "application/javascript": [
       "parent.postMessage({\"jupyterEvent\": \"custom.exercise_interaction\", \"data\": {\"outcomeType\": 1, \"valueTowardsCompletion\": 0.14285714285714285, \"interactionType\": 1, \"questionType\": 1, \"questionId\": \"1_MedianPoints\", \"learnToolsVersion\": \"0.3.4\", \"failureMessage\": \"\", \"exceptionClass\": \"\", \"trace\": \"\"}}, \"*\")"
      ],
      "text/plain": [
       "<IPython.core.display.Javascript object>"
      ]
     },
     "metadata": {},
     "output_type": "display_data"
    },
    {
     "data": {
      "text/markdown": [
       "<span style=\"color:#33cc33\">Correct</span>"
      ],
      "text/plain": [
       "Correct"
      ]
     },
     "metadata": {},
     "output_type": "display_data"
    },
    {
     "name": "stdout",
     "output_type": "stream",
     "text": [
      "88.0\n"
     ]
    }
   ],
   "source": [
    "median_points = reviews.points.median()\n",
    "\n",
    "# Check your answer\n",
    "q1.check()\n",
    "print(median_points)"
   ]
  },
  {
   "cell_type": "code",
   "execution_count": 3,
   "id": "854d5626",
   "metadata": {
    "execution": {
     "iopub.execute_input": "2024-06-28T20:46:11.577810Z",
     "iopub.status.busy": "2024-06-28T20:46:11.577403Z",
     "iopub.status.idle": "2024-06-28T20:46:11.582262Z",
     "shell.execute_reply": "2024-06-28T20:46:11.581116Z"
    },
    "papermill": {
     "duration": 0.015538,
     "end_time": "2024-06-28T20:46:11.584697",
     "exception": false,
     "start_time": "2024-06-28T20:46:11.569159",
     "status": "completed"
    },
    "tags": []
   },
   "outputs": [],
   "source": [
    "\n",
    "#q1.solution()"
   ]
  },
  {
   "cell_type": "markdown",
   "id": "fe4463c4",
   "metadata": {
    "papermill": {
     "duration": 0.006519,
     "end_time": "2024-06-28T20:46:11.598181",
     "exception": false,
     "start_time": "2024-06-28T20:46:11.591662",
     "status": "completed"
    },
    "tags": []
   },
   "source": [
    "## 2. \n",
    "What countries are represented in the dataset? (Your answer should not include any duplicates.)"
   ]
  },
  {
   "cell_type": "code",
   "execution_count": 4,
   "id": "df6e8eaa",
   "metadata": {
    "execution": {
     "iopub.execute_input": "2024-06-28T20:46:11.613507Z",
     "iopub.status.busy": "2024-06-28T20:46:11.613091Z",
     "iopub.status.idle": "2024-06-28T20:46:11.628836Z",
     "shell.execute_reply": "2024-06-28T20:46:11.627751Z"
    },
    "papermill": {
     "duration": 0.026477,
     "end_time": "2024-06-28T20:46:11.631355",
     "exception": false,
     "start_time": "2024-06-28T20:46:11.604878",
     "status": "completed"
    },
    "tags": []
   },
   "outputs": [
    {
     "data": {
      "application/javascript": [
       "parent.postMessage({\"jupyterEvent\": \"custom.exercise_interaction\", \"data\": {\"outcomeType\": 1, \"valueTowardsCompletion\": 0.14285714285714285, \"interactionType\": 1, \"questionType\": 2, \"questionId\": \"2_UniqueCountries\", \"learnToolsVersion\": \"0.3.4\", \"failureMessage\": \"\", \"exceptionClass\": \"\", \"trace\": \"\"}}, \"*\")"
      ],
      "text/plain": [
       "<IPython.core.display.Javascript object>"
      ]
     },
     "metadata": {},
     "output_type": "display_data"
    },
    {
     "data": {
      "text/markdown": [
       "<span style=\"color:#33cc33\">Correct</span>"
      ],
      "text/plain": [
       "Correct"
      ]
     },
     "metadata": {},
     "output_type": "display_data"
    },
    {
     "name": "stdout",
     "output_type": "stream",
     "text": [
      "['Italy' 'Portugal' 'US' 'Spain' 'France' 'Germany' 'Argentina' 'Chile'\n",
      " 'Australia' 'Austria' 'South Africa' 'New Zealand' 'Israel' 'Hungary'\n",
      " 'Greece' 'Romania' 'Mexico' 'Canada' nan 'Turkey' 'Czech Republic'\n",
      " 'Slovenia' 'Luxembourg' 'Croatia' 'Georgia' 'Uruguay' 'England' 'Lebanon'\n",
      " 'Serbia' 'Brazil' 'Moldova' 'Morocco' 'Peru' 'India' 'Bulgaria' 'Cyprus'\n",
      " 'Armenia' 'Switzerland' 'Bosnia and Herzegovina' 'Ukraine' 'Slovakia'\n",
      " 'Macedonia' 'China' 'Egypt']\n"
     ]
    }
   ],
   "source": [
    "countries = reviews.country.unique()\n",
    "#unique crea una lista unica, es decir que no hayan duplicados\n",
    "\n",
    "# Check your answer\n",
    "q2.check()\n",
    "print(countries)"
   ]
  },
  {
   "cell_type": "code",
   "execution_count": 5,
   "id": "94e62273",
   "metadata": {
    "execution": {
     "iopub.execute_input": "2024-06-28T20:46:11.647425Z",
     "iopub.status.busy": "2024-06-28T20:46:11.647036Z",
     "iopub.status.idle": "2024-06-28T20:46:11.651938Z",
     "shell.execute_reply": "2024-06-28T20:46:11.650742Z"
    },
    "papermill": {
     "duration": 0.015978,
     "end_time": "2024-06-28T20:46:11.654464",
     "exception": false,
     "start_time": "2024-06-28T20:46:11.638486",
     "status": "completed"
    },
    "tags": []
   },
   "outputs": [],
   "source": [
    "#q2.hint()\n",
    "#q2.solution()"
   ]
  },
  {
   "cell_type": "markdown",
   "id": "b2f22a99",
   "metadata": {
    "papermill": {
     "duration": 0.006843,
     "end_time": "2024-06-28T20:46:11.668488",
     "exception": false,
     "start_time": "2024-06-28T20:46:11.661645",
     "status": "completed"
    },
    "tags": []
   },
   "source": [
    "## 3.\n",
    "How often does each country appear in the dataset? Create a Series `reviews_per_country` mapping countries to the count of reviews of wines from that country."
   ]
  },
  {
   "cell_type": "code",
   "execution_count": 6,
   "id": "783c711a",
   "metadata": {
    "execution": {
     "iopub.execute_input": "2024-06-28T20:46:11.684243Z",
     "iopub.status.busy": "2024-06-28T20:46:11.683853Z",
     "iopub.status.idle": "2024-06-28T20:46:11.730107Z",
     "shell.execute_reply": "2024-06-28T20:46:11.728760Z"
    },
    "papermill": {
     "duration": 0.057302,
     "end_time": "2024-06-28T20:46:11.732733",
     "exception": false,
     "start_time": "2024-06-28T20:46:11.675431",
     "status": "completed"
    },
    "tags": []
   },
   "outputs": [
    {
     "data": {
      "application/javascript": [
       "parent.postMessage({\"jupyterEvent\": \"custom.exercise_interaction\", \"data\": {\"outcomeType\": 1, \"valueTowardsCompletion\": 0.14285714285714285, \"interactionType\": 1, \"questionType\": 1, \"questionId\": \"3_ReviewsPerCountry\", \"learnToolsVersion\": \"0.3.4\", \"failureMessage\": \"\", \"exceptionClass\": \"\", \"trace\": \"\"}}, \"*\")"
      ],
      "text/plain": [
       "<IPython.core.display.Javascript object>"
      ]
     },
     "metadata": {},
     "output_type": "display_data"
    },
    {
     "data": {
      "text/markdown": [
       "<span style=\"color:#33cc33\">Correct</span>"
      ],
      "text/plain": [
       "Correct"
      ]
     },
     "metadata": {},
     "output_type": "display_data"
    },
    {
     "name": "stdout",
     "output_type": "stream",
     "text": [
      "country\n",
      "US        54504\n",
      "France    22093\n",
      "          ...  \n",
      "China         1\n",
      "Egypt         1\n",
      "Name: count, Length: 43, dtype: int64\n"
     ]
    }
   ],
   "source": [
    "reviews_per_country = reviews.country.value_counts() #almacenamos en la variable \n",
    "#una lista con valores unicos de los paises\n",
    "\n",
    "reviews.country.map(lambda p: reviews_per_country)\n",
    "\n",
    "\n",
    "\n",
    "# Check your answer\n",
    "q3.check()\n",
    "print(reviews_per_country)"
   ]
  },
  {
   "cell_type": "code",
   "execution_count": 7,
   "id": "7c1bbc67",
   "metadata": {
    "execution": {
     "iopub.execute_input": "2024-06-28T20:46:11.749952Z",
     "iopub.status.busy": "2024-06-28T20:46:11.749167Z",
     "iopub.status.idle": "2024-06-28T20:46:11.753847Z",
     "shell.execute_reply": "2024-06-28T20:46:11.752708Z"
    },
    "papermill": {
     "duration": 0.015987,
     "end_time": "2024-06-28T20:46:11.756025",
     "exception": false,
     "start_time": "2024-06-28T20:46:11.740038",
     "status": "completed"
    },
    "tags": []
   },
   "outputs": [],
   "source": [
    "#q3.hint()\n",
    "#q3.solution()"
   ]
  },
  {
   "cell_type": "markdown",
   "id": "fb71f3df",
   "metadata": {
    "papermill": {
     "duration": 0.006821,
     "end_time": "2024-06-28T20:46:11.770112",
     "exception": false,
     "start_time": "2024-06-28T20:46:11.763291",
     "status": "completed"
    },
    "tags": []
   },
   "source": [
    "## 4.\n",
    "Create variable `centered_price` containing a version of the `price` column with the mean price subtracted.\n",
    "\n",
    "(Note: this 'centering' transformation is a common preprocessing step before applying various machine learning algorithms.) "
   ]
  },
  {
   "cell_type": "code",
   "execution_count": 8,
   "id": "9b175670",
   "metadata": {
    "execution": {
     "iopub.execute_input": "2024-06-28T20:46:11.787240Z",
     "iopub.status.busy": "2024-06-28T20:46:11.786461Z",
     "iopub.status.idle": "2024-06-28T20:46:11.800115Z",
     "shell.execute_reply": "2024-06-28T20:46:11.798938Z"
    },
    "papermill": {
     "duration": 0.024856,
     "end_time": "2024-06-28T20:46:11.802572",
     "exception": false,
     "start_time": "2024-06-28T20:46:11.777716",
     "status": "completed"
    },
    "tags": []
   },
   "outputs": [
    {
     "data": {
      "application/javascript": [
       "parent.postMessage({\"jupyterEvent\": \"custom.exercise_interaction\", \"data\": {\"outcomeType\": 1, \"valueTowardsCompletion\": 0.14285714285714285, \"interactionType\": 1, \"questionType\": 1, \"questionId\": \"4_CenteredPrice\", \"learnToolsVersion\": \"0.3.4\", \"failureMessage\": \"\", \"exceptionClass\": \"\", \"trace\": \"\"}}, \"*\")"
      ],
      "text/plain": [
       "<IPython.core.display.Javascript object>"
      ]
     },
     "metadata": {},
     "output_type": "display_data"
    },
    {
     "data": {
      "text/markdown": [
       "<span style=\"color:#33cc33\">Correct</span>"
      ],
      "text/plain": [
       "Correct"
      ]
     },
     "metadata": {},
     "output_type": "display_data"
    },
    {
     "name": "stdout",
     "output_type": "stream",
     "text": [
      "0               NaN\n",
      "1        -20.363389\n",
      "            ...    \n",
      "129969    -3.363389\n",
      "129970   -14.363389\n",
      "Name: price, Length: 129971, dtype: float64\n"
     ]
    }
   ],
   "source": [
    "centered_price = reviews.price - reviews.price.mean()\n",
    "\n",
    "\n",
    "# Check your answer\n",
    "q4.check()\n",
    "print(centered_price)"
   ]
  },
  {
   "cell_type": "code",
   "execution_count": 9,
   "id": "d887ba1d",
   "metadata": {
    "execution": {
     "iopub.execute_input": "2024-06-28T20:46:11.819851Z",
     "iopub.status.busy": "2024-06-28T20:46:11.819272Z",
     "iopub.status.idle": "2024-06-28T20:46:11.824322Z",
     "shell.execute_reply": "2024-06-28T20:46:11.823123Z"
    },
    "papermill": {
     "duration": 0.016552,
     "end_time": "2024-06-28T20:46:11.826755",
     "exception": false,
     "start_time": "2024-06-28T20:46:11.810203",
     "status": "completed"
    },
    "tags": []
   },
   "outputs": [],
   "source": [
    "#q4.hint()\n",
    "#q4.solution()"
   ]
  },
  {
   "cell_type": "markdown",
   "id": "c5c1f698",
   "metadata": {
    "papermill": {
     "duration": 0.00738,
     "end_time": "2024-06-28T20:46:11.842062",
     "exception": false,
     "start_time": "2024-06-28T20:46:11.834682",
     "status": "completed"
    },
    "tags": []
   },
   "source": [
    "## 5.\n",
    "I'm an economical wine buyer. Which wine is the \"best bargain\"? Create a variable `bargain_wine` with the title of the wine with the highest points-to-price ratio in the dataset."
   ]
  },
  {
   "cell_type": "code",
   "execution_count": 10,
   "id": "63fd6658",
   "metadata": {
    "execution": {
     "iopub.execute_input": "2024-06-28T20:46:11.859500Z",
     "iopub.status.busy": "2024-06-28T20:46:11.859080Z",
     "iopub.status.idle": "2024-06-28T20:46:11.876117Z",
     "shell.execute_reply": "2024-06-28T20:46:11.874718Z"
    },
    "papermill": {
     "duration": 0.028887,
     "end_time": "2024-06-28T20:46:11.878736",
     "exception": false,
     "start_time": "2024-06-28T20:46:11.849849",
     "status": "completed"
    },
    "tags": []
   },
   "outputs": [
    {
     "data": {
      "application/javascript": [
       "parent.postMessage({\"jupyterEvent\": \"custom.exercise_interaction\", \"data\": {\"outcomeType\": 1, \"valueTowardsCompletion\": 0.14285714285714285, \"interactionType\": 1, \"questionType\": 2, \"questionId\": \"5_BargainWine\", \"learnToolsVersion\": \"0.3.4\", \"failureMessage\": \"\", \"exceptionClass\": \"\", \"trace\": \"\"}}, \"*\")"
      ],
      "text/plain": [
       "<IPython.core.display.Javascript object>"
      ]
     },
     "metadata": {},
     "output_type": "display_data"
    },
    {
     "data": {
      "text/markdown": [
       "<span style=\"color:#33cc33\">Correct</span>"
      ],
      "text/plain": [
       "Correct"
      ]
     },
     "metadata": {},
     "output_type": "display_data"
    },
    {
     "name": "stdout",
     "output_type": "stream",
     "text": [
      "0              NaN\n",
      "1         5.800000\n",
      "            ...   \n",
      "129969    2.812500\n",
      "129970    4.285714\n",
      "Length: 129971, dtype: float64\n"
     ]
    }
   ],
   "source": [
    "bargain_ratio = reviews.points / reviews.price\n",
    "best_bargain_index = bargain_ratio.idxmax()\n",
    "\n",
    "bargain_wine = reviews.loc[best_bargain_index, 'title']\n",
    "\n",
    "# Check your answer\n",
    "q5.check()\n",
    "print(bargain_ratio)"
   ]
  },
  {
   "cell_type": "code",
   "execution_count": 11,
   "id": "7904f755",
   "metadata": {
    "execution": {
     "iopub.execute_input": "2024-06-28T20:46:11.897339Z",
     "iopub.status.busy": "2024-06-28T20:46:11.896277Z",
     "iopub.status.idle": "2024-06-28T20:46:11.901604Z",
     "shell.execute_reply": "2024-06-28T20:46:11.900123Z"
    },
    "papermill": {
     "duration": 0.016803,
     "end_time": "2024-06-28T20:46:11.903806",
     "exception": false,
     "start_time": "2024-06-28T20:46:11.887003",
     "status": "completed"
    },
    "tags": []
   },
   "outputs": [],
   "source": [
    "#q5.hint()\n",
    "#q5.solution()"
   ]
  },
  {
   "cell_type": "markdown",
   "id": "ca2a24a4",
   "metadata": {
    "papermill": {
     "duration": 0.007816,
     "end_time": "2024-06-28T20:46:11.919808",
     "exception": false,
     "start_time": "2024-06-28T20:46:11.911992",
     "status": "completed"
    },
    "tags": []
   },
   "source": [
    "## 6.\n",
    "There are only so many words you can use when describing a bottle of wine. Is a wine more likely to be \"tropical\" or \"fruity\"? Create a Series `descriptor_counts` counting how many times each of these two words appears in the `description` column in the dataset. (For simplicity, let's ignore the capitalized versions of these words.)"
   ]
  },
  {
   "cell_type": "code",
   "execution_count": 12,
   "id": "b37e0cb1",
   "metadata": {
    "execution": {
     "iopub.execute_input": "2024-06-28T20:46:11.938586Z",
     "iopub.status.busy": "2024-06-28T20:46:11.937384Z",
     "iopub.status.idle": "2024-06-28T20:46:12.086143Z",
     "shell.execute_reply": "2024-06-28T20:46:12.084657Z"
    },
    "papermill": {
     "duration": 0.160662,
     "end_time": "2024-06-28T20:46:12.088446",
     "exception": false,
     "start_time": "2024-06-28T20:46:11.927784",
     "status": "completed"
    },
    "tags": []
   },
   "outputs": [
    {
     "data": {
      "application/javascript": [
       "parent.postMessage({\"jupyterEvent\": \"custom.exercise_interaction\", \"data\": {\"outcomeType\": 1, \"valueTowardsCompletion\": 0.14285714285714285, \"interactionType\": 1, \"questionType\": 1, \"questionId\": \"6_DescriptorCounts\", \"learnToolsVersion\": \"0.3.4\", \"failureMessage\": \"\", \"exceptionClass\": \"\", \"trace\": \"\"}}, \"*\")"
      ],
      "text/plain": [
       "<IPython.core.display.Javascript object>"
      ]
     },
     "metadata": {},
     "output_type": "display_data"
    },
    {
     "data": {
      "text/markdown": [
       "<span style=\"color:#33cc33\">Correct</span>"
      ],
      "text/plain": [
       "Correct"
      ]
     },
     "metadata": {},
     "output_type": "display_data"
    },
    {
     "name": "stdout",
     "output_type": "stream",
     "text": [
      "tropical    3607\n",
      "fruity      9090\n",
      "dtype: int64\n"
     ]
    }
   ],
   "source": [
    "n_trop = reviews.description.map(lambda desc: \"tropical\" in desc).sum()\n",
    "n_fruity = reviews.description.map(lambda desc: \"fruity\" in desc).sum()\n",
    "descriptor_counts = pd.Series([n_trop, n_fruity], index=['tropical', 'fruity'])\n",
    "# Check your answer\n",
    "q6.check()\n",
    "print(descriptor_counts)"
   ]
  },
  {
   "cell_type": "code",
   "execution_count": 13,
   "id": "210702bd",
   "metadata": {
    "execution": {
     "iopub.execute_input": "2024-06-28T20:46:12.107050Z",
     "iopub.status.busy": "2024-06-28T20:46:12.106649Z",
     "iopub.status.idle": "2024-06-28T20:46:12.111442Z",
     "shell.execute_reply": "2024-06-28T20:46:12.110337Z"
    },
    "papermill": {
     "duration": 0.016968,
     "end_time": "2024-06-28T20:46:12.113817",
     "exception": false,
     "start_time": "2024-06-28T20:46:12.096849",
     "status": "completed"
    },
    "tags": []
   },
   "outputs": [],
   "source": [
    "#q6.hint()\n",
    "#q6.solution()"
   ]
  },
  {
   "cell_type": "markdown",
   "id": "f9fa8c79",
   "metadata": {
    "papermill": {
     "duration": 0.007985,
     "end_time": "2024-06-28T20:46:12.130394",
     "exception": false,
     "start_time": "2024-06-28T20:46:12.122409",
     "status": "completed"
    },
    "tags": []
   },
   "source": [
    "## 7.\n",
    "We'd like to host these wine reviews on our website, but a rating system ranging from 80 to 100 points is too hard to understand - we'd like to translate them into simple star ratings. A score of 95 or higher counts as 3 stars, a score of at least 85 but less than 95 is 2 stars. Any other score is 1 star.\n",
    "\n",
    "Also, the Canadian Vintners Association bought a lot of ads on the site, so any wines from Canada should automatically get 3 stars, regardless of points.\n",
    "\n",
    "Create a series `star_ratings` with the number of stars corresponding to each review in the dataset."
   ]
  },
  {
   "cell_type": "code",
   "execution_count": 14,
   "id": "935159b1",
   "metadata": {
    "execution": {
     "iopub.execute_input": "2024-06-28T20:46:12.149354Z",
     "iopub.status.busy": "2024-06-28T20:46:12.148960Z",
     "iopub.status.idle": "2024-06-28T20:46:15.703064Z",
     "shell.execute_reply": "2024-06-28T20:46:15.701682Z"
    },
    "papermill": {
     "duration": 3.566574,
     "end_time": "2024-06-28T20:46:15.705357",
     "exception": false,
     "start_time": "2024-06-28T20:46:12.138783",
     "status": "completed"
    },
    "tags": []
   },
   "outputs": [
    {
     "data": {
      "application/javascript": [
       "parent.postMessage({\"jupyterEvent\": \"custom.exercise_interaction\", \"data\": {\"outcomeType\": 1, \"valueTowardsCompletion\": 0.14285714285714285, \"interactionType\": 1, \"questionType\": 1, \"questionId\": \"7_StarRatings\", \"learnToolsVersion\": \"0.3.4\", \"failureMessage\": \"\", \"exceptionClass\": \"\", \"trace\": \"\"}}, \"*\")"
      ],
      "text/plain": [
       "<IPython.core.display.Javascript object>"
      ]
     },
     "metadata": {},
     "output_type": "display_data"
    },
    {
     "data": {
      "text/markdown": [
       "<span style=\"color:#33cc33\">Correct</span>"
      ],
      "text/plain": [
       "Correct"
      ]
     },
     "metadata": {},
     "output_type": "display_data"
    },
    {
     "name": "stdout",
     "output_type": "stream",
     "text": [
      "0         2\n",
      "1         2\n",
      "         ..\n",
      "129969    2\n",
      "129970    2\n",
      "Length: 129971, dtype: int64\n"
     ]
    }
   ],
   "source": [
    "def stars(row): #definimos una funcion y dentro de ella los condicionales.\n",
    "    if row.country == \"Canada\":\n",
    "        return 3 \n",
    "    elif row.points >= 95:\n",
    "        return 3\n",
    "    elif row.points >= 85:\n",
    "        return 2\n",
    "    else:\n",
    "        return 1\n",
    "    \n",
    "    \n",
    "\n",
    "star_ratings = reviews.apply(stars, axis = \"columns\") #con el metodo apply creamos una columna de stars\n",
    "# Check your answer\n",
    "q7.check()\n",
    "print(star_ratings)"
   ]
  },
  {
   "cell_type": "code",
   "execution_count": 15,
   "id": "7234868a",
   "metadata": {
    "execution": {
     "iopub.execute_input": "2024-06-28T20:46:15.724486Z",
     "iopub.status.busy": "2024-06-28T20:46:15.724115Z",
     "iopub.status.idle": "2024-06-28T20:46:15.728604Z",
     "shell.execute_reply": "2024-06-28T20:46:15.727416Z"
    },
    "papermill": {
     "duration": 0.016885,
     "end_time": "2024-06-28T20:46:15.730965",
     "exception": false,
     "start_time": "2024-06-28T20:46:15.714080",
     "status": "completed"
    },
    "tags": []
   },
   "outputs": [],
   "source": [
    "#q7.hint()\n",
    "#q7.solution()"
   ]
  },
  {
   "cell_type": "markdown",
   "id": "884c1a2b",
   "metadata": {
    "papermill": {
     "duration": 0.008661,
     "end_time": "2024-06-28T20:46:15.748910",
     "exception": false,
     "start_time": "2024-06-28T20:46:15.740249",
     "status": "completed"
    },
    "tags": []
   },
   "source": [
    "# Keep going\n",
    "Continue to **[grouping and sorting](https://www.kaggle.com/residentmario/grouping-and-sorting)**."
   ]
  },
  {
   "cell_type": "markdown",
   "id": "cf4ae268",
   "metadata": {
    "papermill": {
     "duration": 0.008451,
     "end_time": "2024-06-28T20:46:15.766078",
     "exception": false,
     "start_time": "2024-06-28T20:46:15.757627",
     "status": "completed"
    },
    "tags": []
   },
   "source": [
    "---\n",
    "\n",
    "\n",
    "\n",
    "\n",
    "*Have questions or comments? Visit the [course discussion forum](https://www.kaggle.com/learn/pandas/discussion) to chat with other learners.*"
   ]
  }
 ],
 "metadata": {
  "kaggle": {
   "accelerator": "none",
   "dataSources": [
    {
     "datasetId": 655,
     "sourceId": 1252,
     "sourceType": "datasetVersion"
    },
    {
     "datasetId": 2321,
     "sourceId": 3919,
     "sourceType": "datasetVersion"
    },
    {
     "datasetId": 2894,
     "sourceId": 4877,
     "sourceType": "datasetVersion"
    },
    {
     "datasetId": 3491,
     "sourceId": 5624,
     "sourceType": "datasetVersion"
    },
    {
     "datasetId": 1442,
     "sourceId": 8172,
     "sourceType": "datasetVersion"
    },
    {
     "datasetId": 9366,
     "sourceId": 13206,
     "sourceType": "datasetVersion"
    },
    {
     "datasetId": 179555,
     "sourceId": 403916,
     "sourceType": "datasetVersion"
    },
    {
     "datasetId": 4549,
     "sourceId": 466349,
     "sourceType": "datasetVersion"
    },
    {
     "datasetId": 2478,
     "sourceId": 1151655,
     "sourceType": "datasetVersion"
    },
    {
     "datasetId": 10128,
     "sourceId": 5438389,
     "sourceType": "datasetVersion"
    }
   ],
   "isGpuEnabled": false,
   "isInternetEnabled": false,
   "language": "python",
   "sourceType": "notebook"
  },
  "kernelspec": {
   "display_name": "Python 3",
   "language": "python",
   "name": "python3"
  },
  "language_info": {
   "codemirror_mode": {
    "name": "ipython",
    "version": 3
   },
   "file_extension": ".py",
   "mimetype": "text/x-python",
   "name": "python",
   "nbconvert_exporter": "python",
   "pygments_lexer": "ipython3",
   "version": "3.10.13"
  },
  "papermill": {
   "default_parameters": {},
   "duration": 15.395583,
   "end_time": "2024-06-28T20:46:16.296036",
   "environment_variables": {},
   "exception": null,
   "input_path": "__notebook__.ipynb",
   "output_path": "__notebook__.ipynb",
   "parameters": {},
   "start_time": "2024-06-28T20:46:00.900453",
   "version": "2.5.0"
  }
 },
 "nbformat": 4,
 "nbformat_minor": 5
}
